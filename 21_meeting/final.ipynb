{
 "cells": [
  {
   "cell_type": "markdown",
   "metadata": {},
   "source": [
    "# Final Data Merging"
   ]
  },
  {
   "cell_type": "code",
   "execution_count": null,
   "metadata": {},
   "outputs": [],
   "source": [
    "import pandas as pd"
   ]
  },
  {
   "cell_type": "markdown",
   "metadata": {},
   "source": [
    "now we will merge all the csvs together and calculate some new column values"
   ]
  },
  {
   "cell_type": "code",
   "execution_count": null,
   "metadata": {},
   "outputs": [],
   "source": [
    "historical = pd.read_csv(\"./data/data_cleaned.csv\")\n",
    "new = pd.read_csv(\"./data/2022_data.csv\")\n",
    "asset_types = pd.read_csv(\"./data/asset_list_from_html.csv\")"
   ]
  },
  {
   "cell_type": "code",
   "execution_count": null,
   "metadata": {},
   "outputs": [],
   "source": [
    "new"
   ]
  },
  {
   "cell_type": "code",
   "execution_count": null,
   "metadata": {},
   "outputs": [],
   "source": [
    "historical"
   ]
  },
  {
   "cell_type": "code",
   "execution_count": null,
   "metadata": {},
   "outputs": [],
   "source": [
    "asset_types"
   ]
  },
  {
   "cell_type": "code",
   "execution_count": null,
   "metadata": {},
   "outputs": [],
   "source": [
    "# prep for merge: we want to merge on the assets that are in both tables\n",
    "historical_assets = [c for c in historical.columns if c != 'Date_Begin_Local']\n",
    "new_assets = [c for c in new.columns if c != 'Datetime']\n",
    "shared_assets = [c for c in new_assets if c in historical_assets]\n",
    "all_assets = list(set(historical_assets) | set(new_assets))\n",
    "all_assets"
   ]
  },
  {
   "cell_type": "code",
   "execution_count": null,
   "metadata": {},
   "outputs": [],
   "source": [
    "# outer join the 2 tables\n",
    "merged = pd.merge(left=historical, right=new, left_on=['Date_Begin_Local', *shared_assets], right_on=['Datetime', *shared_assets], how='outer')"
   ]
  },
  {
   "cell_type": "code",
   "execution_count": null,
   "metadata": {},
   "outputs": [],
   "source": [
    "merged = merged.fillna(0)"
   ]
  },
  {
   "cell_type": "code",
   "execution_count": null,
   "metadata": {},
   "outputs": [],
   "source": [
    "# fix date column from join\n",
    "def get_date(row):\n",
    "    if row['Date_Begin_Local'] != 0:\n",
    "        return row['Date_Begin_Local']\n",
    "    return row['Datetime']\n",
    "\n",
    "merged['date'] = merged.apply(get_date, axis=1)\n",
    "merged['date'] = pd.to_datetime(merged['date'])\n",
    "merged['date']"
   ]
  },
  {
   "cell_type": "markdown",
   "metadata": {},
   "source": [
    "### add new columns for total by asset type!"
   ]
  },
  {
   "cell_type": "code",
   "execution_count": null,
   "metadata": {},
   "outputs": [],
   "source": [
    "from functools import reduce\n",
    "def calculate_total(asset_names):\n",
    "    return reduce(lambda total, asset: total + merged[asset] if asset in merged.columns else total, asset_names, 0)"
   ]
  },
  {
   "cell_type": "code",
   "execution_count": null,
   "metadata": {},
   "outputs": [],
   "source": [
    "merged['total_all'] = calculate_total(all_assets)\n",
    "merged['total_all']\n",
    "\n",
    "hydro_assets = list(asset_types[asset_types['type'] == 'hydro']['asset'])\n",
    "merged['hydro_total'] = calculate_total(hydro_assets)\n",
    "\n",
    "wind_assets = list(asset_types[asset_types['type'] == 'wind']['asset'])\n",
    "merged['wind_total'] = calculate_total(wind_assets)\n",
    "\n",
    "solar_assets = list(asset_types[asset_types['type'] == 'solar']['asset'])\n",
    "merged['solar_total'] = calculate_total(solar_assets)\n",
    "\n",
    "biomass_assets = list(asset_types[asset_types['type'] == 'biomass_other']['asset'])\n",
    "merged['biomass_other_total'] = calculate_total(biomass_assets)\n",
    "\n",
    "dual_fuel_assets = list(asset_types[asset_types['type'] == 'dual_fuel']['asset'])\n",
    "merged['dual_fuel_total'] = calculate_total(dual_fuel_assets)\n",
    "\n",
    "gas_simple_assets = list(asset_types[asset_types['type'] == 'gas_simple']['asset'])\n",
    "merged['gas_simple_total'] = calculate_total(gas_simple_assets)\n",
    "\n",
    "gas_cogeneration_assets = list(asset_types[asset_types['type'] == 'gas_cogeneration']['asset'])\n",
    "merged['gas_cogeneration_total'] = calculate_total(gas_cogeneration_assets)\n",
    "\n",
    "gas_combined_cycle_assets = list(asset_types[asset_types['type'] == 'gas_combined']['asset'])\n",
    "merged['gas_combined_total'] = calculate_total(gas_combined_cycle_assets)\n",
    "\n",
    "gas_steam_assets = list(asset_types[asset_types['type'] == 'gas_steam']['asset'])\n",
    "merged['gas_steam_total'] = calculate_total(gas_steam_assets)\n",
    "\n",
    "merged['total_all_gas'] = merged['gas_simple_total'] + merged['gas_cogeneration_total'] + merged['gas_cogeneration_total'] + merged['gas_combined_total'] + merged['gas_steam_total']\n",
    "\n",
    "merged['total_all_renewables'] = merged['hydro_total'] + merged['wind_total'] + merged['solar_total']"
   ]
  },
  {
   "cell_type": "code",
   "execution_count": null,
   "metadata": {},
   "outputs": [],
   "source": [
    "merged"
   ]
  },
  {
   "cell_type": "code",
   "execution_count": null,
   "metadata": {},
   "outputs": [],
   "source": [
    "smaller_dataset = merged[['date','total_all','hydro_total','wind_total','solar_total','biomass_other_total','dual_fuel_total','gas_simple_total','gas_cogeneration_total','gas_combined_total','gas_steam_total','total_all_gas','total_all_renewables']]"
   ]
  },
  {
   "cell_type": "code",
   "execution_count": null,
   "metadata": {},
   "outputs": [],
   "source": [
    "# export csv\n",
    "smaller_dataset.to_csv(\"./data/final_totals_data.csv\", index=False)"
   ]
  }
 ],
 "metadata": {
  "language_info": {
   "name": "python"
  },
  "orig_nbformat": 4
 },
 "nbformat": 4,
 "nbformat_minor": 2
}
