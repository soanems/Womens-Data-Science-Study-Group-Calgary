{
 "cells": [
  {
   "cell_type": "markdown",
   "metadata": {},
   "source": [
    "# Data Intro & Preparation"
   ]
  },
  {
   "cell_type": "markdown",
   "metadata": {},
   "source": [
    "## Load Data"
   ]
  },
  {
   "cell_type": "code",
   "execution_count": null,
   "metadata": {},
   "outputs": [],
   "source": [
    "from datetime import datetime\n",
    "import pandas as pd\n",
    "from functools import reduce"
   ]
  },
  {
   "cell_type": "markdown",
   "metadata": {},
   "source": [
    "data is: \n",
    "power production by asset across columns, plus some extra info\n",
    "each row is all the data for a given hour\n",
    "we also have a list of assets, but not their power types\n",
    "data only goes until the end of 2021\n",
    "\n",
    "what we want:\n",
    "add some columns of the total power production for each power type over time\n",
    "add on the latest data from 2022"
   ]
  },
  {
   "cell_type": "code",
   "execution_count": null,
   "metadata": {},
   "outputs": [],
   "source": [
    "import pandas as pd\n",
    "\n",
    "df = pd.read_csv(\"./data/Hourly_Metered_Volumes_and_Pool_Price_and_AIL.csv\")\n",
    "assets = pd.read_csv(\"./data/AssetListReportServlet.csv\")"
   ]
  },
  {
   "cell_type": "code",
   "execution_count": null,
   "metadata": {},
   "outputs": [],
   "source": [
    "df"
   ]
  },
  {
   "cell_type": "code",
   "execution_count": null,
   "metadata": {},
   "outputs": [],
   "source": [
    "assets"
   ]
  },
  {
   "cell_type": "code",
   "execution_count": null,
   "metadata": {},
   "outputs": [],
   "source": [
    "date_columns = ['Date_Begin_GMT', 'Date_Begin_Local']\n",
    "price_columns = ['ACTUAL_POOL_PRICE', 'ACTUAL_AIL', 'DAY_AHEAD_POOL_PRICE']\n",
    "interchange_columns = ['EXPORT_BC', 'EXPORT_MT', 'EXPORT_SK',\n",
    "                       'IMPORT_BC', 'IMPORT_MT', 'IMPORT_SK']\n",
    "\n",
    "# all the other columns are assets\n",
    "asset_columns = [v for v in df.columns.values if v not in date_columns and v not in price_columns and v not in interchange_columns]"
   ]
  },
  {
   "cell_type": "code",
   "execution_count": null,
   "metadata": {},
   "outputs": [],
   "source": [
    "# when None, there is 0 power - needed to be able to sum\n",
    "df = df.fillna(0)"
   ]
  },
  {
   "cell_type": "code",
   "execution_count": null,
   "metadata": {},
   "outputs": [],
   "source": [
    "# parse date into python datetime\n",
    "df['Date_Begin_Local'] = pd.to_datetime(df['Date_Begin_Local'], format=\"%d%b%Y:%H:%M:%S\")\n",
    "df = df.drop(columns=['Date_Begin_GMT'])"
   ]
  },
  {
   "cell_type": "code",
   "execution_count": null,
   "metadata": {},
   "outputs": [],
   "source": [
    "from functools import reduce\n",
    "def calculate_total(asset_names):\n",
    "    return reduce(lambda total, asset: total + df[asset], asset_names, 0)\n",
    "\n",
    "df['total_all'] = calculate_total(asset_columns)"
   ]
  },
  {
   "cell_type": "markdown",
   "metadata": {},
   "source": [
    "## Data Exploration"
   ]
  },
  {
   "cell_type": "code",
   "execution_count": null,
   "metadata": {},
   "outputs": [],
   "source": [
    "df"
   ]
  },
  {
   "cell_type": "code",
   "execution_count": null,
   "metadata": {},
   "outputs": [],
   "source": [
    "df['total_all'].describe()"
   ]
  },
  {
   "cell_type": "code",
   "execution_count": null,
   "metadata": {},
   "outputs": [],
   "source": [
    "df['Date_Begin_Local'].describe(datetime_is_numeric=True)"
   ]
  },
  {
   "cell_type": "code",
   "execution_count": null,
   "metadata": {},
   "outputs": [],
   "source": [
    "df.hist(column=\"total_all\")"
   ]
  },
  {
   "cell_type": "code",
   "execution_count": null,
   "metadata": {},
   "outputs": [],
   "source": [
    "df.plot(x='Date_Begin_Local', y='total_all')"
   ]
  },
  {
   "cell_type": "code",
   "execution_count": null,
   "metadata": {},
   "outputs": [],
   "source": [
    "from datetime import datetime\n",
    "df_2021 = df[df['Date_Begin_Local'] >= datetime(2021, 1, 1)]\n",
    "df_2021.plot(x='Date_Begin_Local', y='total_all')"
   ]
  },
  {
   "cell_type": "markdown",
   "metadata": {},
   "source": [
    "## Export cleaned data"
   ]
  },
  {
   "cell_type": "code",
   "execution_count": null,
   "metadata": {},
   "outputs": [],
   "source": [
    "# drop stuff we don't need\n",
    "df = df.drop(columns=price_columns)\n",
    "df = df.drop(columns=interchange_columns)\n",
    "df = df.drop(columns=['total_all']) # will add back in later\n",
    "# export csv\n",
    "df.to_csv('./data/data_cleaned.csv', index=False)"
   ]
  },
  {
   "cell_type": "markdown",
   "metadata": {},
   "source": [
    "todo from here: add new data, and find totals by power type"
   ]
  }
 ],
 "metadata": {
  "language_info": {
   "name": "python"
  },
  "orig_nbformat": 4
 },
 "nbformat": 4,
 "nbformat_minor": 2
}
