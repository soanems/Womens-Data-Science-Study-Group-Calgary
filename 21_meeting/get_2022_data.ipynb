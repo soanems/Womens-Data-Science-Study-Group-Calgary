{
 "cells": [
  {
   "cell_type": "markdown",
   "metadata": {},
   "source": [
    "# Get 2022 Data by API"
   ]
  },
  {
   "cell_type": "code",
   "execution_count": null,
   "metadata": {},
   "outputs": [],
   "source": [
    "import pandas as pd\n",
    "import numpy as np\n",
    "import requests\n",
    "import io\n",
    "import time"
   ]
  },
  {
   "cell_type": "code",
   "execution_count": null,
   "metadata": {},
   "outputs": [],
   "source": [
    "import datetime"
   ]
  },
  {
   "cell_type": "code",
   "execution_count": null,
   "metadata": {},
   "outputs": [],
   "source": [
    "# make requests to the API\n",
    "import requests\n",
    "api_url = \"http://ets.aeso.ca/ets_web/ip/Market/Reports/PublicSummaryAllReportServlet\"\n",
    "def get_daily_metered_data(date):\n",
    "    date_string = date.strftime(\"%m%d%Y\")\n",
    "    url = api_url+\"?beginDate=\"+date_string+\"&endDate=\"+date_string+\"&contentType=csv\"\n",
    "    response = requests.get(url).content.decode('utf-8')\n",
    "    return response"
   ]
  },
  {
   "cell_type": "code",
   "execution_count": null,
   "metadata": {},
   "outputs": [],
   "source": [
    "get_daily_metered_data(datetime.date(2022,1,1))"
   ]
  },
  {
   "cell_type": "code",
   "execution_count": null,
   "metadata": {},
   "outputs": [],
   "source": [
    "# gets a pandas dataframe for one day, and transforms it to match historical data format\n",
    "import pandas as pd\n",
    "import numpy as np\n",
    "import io\n",
    "static_column_names = [\"Pool_Participant_Id\", \"Asset_Type\", \"Asset_Id\"]\n",
    "def get_daily_df(date):\n",
    "    response = get_daily_metered_data(date)\n",
    "    df = pd.read_csv(io.StringIO(response), header=[5])\n",
    "    # column names on this CSV are: first 3 plus 1 column per hour\n",
    "    times = list(map(lambda hour: datetime.datetime.combine(date , datetime.time(hour = hour)),list(range(0, 24))))\n",
    "    df.columns = [*static_column_names, *times]\n",
    "    # filter for power sources (not transfers/usage/storage)\n",
    "    df = df[(df['Asset_Type'] == 'GENCO') | (df['Asset_Type'] == 'IPP')]\n",
    "\n",
    "    # combine all the hours into one\n",
    "    df = df.melt(id_vars=static_column_names, \n",
    "            var_name=\"Datetime\", \n",
    "            value_name=\"Metered_Value\")\n",
    "\n",
    "    # pivot to the same format as historical data\n",
    "    df = df.pivot_table(index='Datetime', columns='Asset_Id', values=['Metered_Value'], aggfunc=np.sum)['Metered_Value']\n",
    "    return df"
   ]
  },
  {
   "cell_type": "code",
   "execution_count": null,
   "metadata": {},
   "outputs": [],
   "source": [
    "df = get_daily_df(datetime.date(2022,1,1))\n",
    "df"
   ]
  },
  {
   "cell_type": "markdown",
   "metadata": {},
   "source": [
    "loop through from start date to end date and append data to csv"
   ]
  },
  {
   "cell_type": "code",
   "execution_count": null,
   "metadata": {},
   "outputs": [],
   "source": [
    "start_date = datetime.date(2022,1,1)\n",
    "end_date = datetime.date(2022,3,23)"
   ]
  },
  {
   "cell_type": "code",
   "execution_count": null,
   "metadata": {},
   "outputs": [],
   "source": [
    "import time\n",
    "date = start_date\n",
    "full_df = pd.DataFrame()\n",
    "while date <= end_date:\n",
    "    print(date)\n",
    "    time.sleep(0.2) # prevents us from sending too many requests\n",
    "    df = get_daily_df(date)\n",
    "    full_df = full_df.append(df)\n",
    "    date += datetime.timedelta(days=1)"
   ]
  },
  {
   "cell_type": "code",
   "execution_count": null,
   "metadata": {},
   "outputs": [],
   "source": [
    "full_df"
   ]
  },
  {
   "cell_type": "code",
   "execution_count": null,
   "metadata": {},
   "outputs": [],
   "source": [
    "full_df.to_csv(\"./data/2022_data.csv\")"
   ]
  },
  {
   "cell_type": "markdown",
   "metadata": {},
   "source": [
    "### DeepSea Main Function:"
   ]
  },
  {
   "cell_type": "markdown",
   "metadata": {},
   "source": [
    "This is the same, just wrapped in a function"
   ]
  },
  {
   "cell_type": "code",
   "execution_count": null,
   "metadata": {},
   "outputs": [],
   "source": [
    "# same function for DeepSea\n",
    "# loop through from start date to end date and append data to csv\n",
    "def get_new_data(start_date, end_date):\n",
    "    import time\n",
    "    date = start_date\n",
    "    full_df = pd.DataFrame()\n",
    "    while date <= end_date:\n",
    "        # print(date)\n",
    "        time.sleep(0.2) # prevents us from sending too many requests\n",
    "        df = get_daily_df(date)\n",
    "        full_df = full_df.append(df)\n",
    "        date += datetime.timedelta(days=1)\n",
    "    return full_df"
   ]
  }
 ],
 "metadata": {
  "language_info": {
   "name": "python"
  },
  "orig_nbformat": 4
 },
 "nbformat": 4,
 "nbformat_minor": 2
}
