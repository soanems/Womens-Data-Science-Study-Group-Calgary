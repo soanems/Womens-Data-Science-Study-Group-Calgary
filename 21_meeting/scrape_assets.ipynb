{
 "cells": [
  {
   "cell_type": "markdown",
   "metadata": {},
   "source": [
    "# Web Scraping Asset Types"
   ]
  },
  {
   "cell_type": "code",
   "execution_count": null,
   "metadata": {},
   "outputs": [],
   "source": [
    "import csv\n",
    "import re\n",
    "from bs4 import BeautifulSoup\n",
    "import requests"
   ]
  },
  {
   "cell_type": "code",
   "execution_count": null,
   "metadata": {},
   "outputs": [],
   "source": [
    "# get current supply & demand page\n",
    "import requests\n",
    "response = requests.get(\"http://ets.aeso.ca/ets_web/ip/Market/Reports/CSDReportServlet\")"
   ]
  },
  {
   "cell_type": "code",
   "execution_count": null,
   "metadata": {},
   "outputs": [],
   "source": [
    "html_text = response.text\n",
    "html_text"
   ]
  },
  {
   "cell_type": "code",
   "execution_count": null,
   "metadata": {},
   "outputs": [],
   "source": [
    "# find the tables using BeautifulSoup\n",
    "from bs4 import BeautifulSoup\n",
    "soup = BeautifulSoup(html_text, 'html.parser')\n",
    "types_tables = soup.find_all(\"table\")[10:]\n",
    "types_tables"
   ]
  },
  {
   "cell_type": "code",
   "execution_count": null,
   "metadata": {},
   "outputs": [],
   "source": [
    "# get asset id out of asset name row\n",
    "def get_row_asset_id(row):\n",
    "    return row.text.split('(')[1].split(')')[0]"
   ]
  },
  {
   "cell_type": "code",
   "execution_count": null,
   "metadata": {},
   "outputs": [],
   "source": [
    "# reads type and assets out of table\n",
    "import re\n",
    "def get_assets_of_type(table):\n",
    "    title_html = table.find('th')\n",
    "    title_text = title_html.text\n",
    "    \n",
    "    # finds all the tds with (asset) in the table\n",
    "    asset_rows = table.findAll('td', string=re.compile('\\('))\n",
    "    assets = list(map(get_row_asset_id, asset_rows))\n",
    "    return title_text, assets"
   ]
  },
  {
   "cell_type": "code",
   "execution_count": null,
   "metadata": {},
   "outputs": [],
   "source": [
    "# test out our function: gets types & assets\n",
    "assets = get_assets_of_type(types_tables[5])\n",
    "assets"
   ]
  },
  {
   "cell_type": "code",
   "execution_count": null,
   "metadata": {},
   "outputs": [],
   "source": [
    "# loop through tables and save their assets into a dictionary\n",
    "types = {\n",
    "    'GAS': 'gas',\n",
    "    'HYDRO': 'hydro',\n",
    "    'ENERGY STORAGE': 'energy_storage',\n",
    "    'SOLAR': 'solar',\n",
    "    'WIND': 'wind',\n",
    "    'BIOMASS AND OTHER': 'biomass_other',\n",
    "    'DUAL FUEL': 'dual_fuel',\n",
    "    'COAL': 'coal',\n",
    "}\n",
    "other_types_tables = [types_tables[2], types_tables[3], types_tables[4], types_tables[5], types_tables[7], types_tables[8], types_tables[9]]\n",
    "other_assets = {}\n",
    "for table in other_types_tables:\n",
    "    name, assets = get_assets_of_type(table)\n",
    "    category = types[name]\n",
    "    other_assets[category] = assets\n",
    "other_assets"
   ]
  },
  {
   "cell_type": "code",
   "execution_count": null,
   "metadata": {},
   "outputs": [],
   "source": [
    "# gas table is in a different format, so it needs special code\n",
    "gas_types = {\n",
    "    'Simple Cycle': 'gas_simple',\n",
    "    'Cogeneration': 'gas_cogeneration',\n",
    "    'Combined Cycle': 'gas_combined',\n",
    "    'Gas Fired Steam': 'gas_steam'\n",
    "}\n",
    "gas_table = types_tables[0]\n",
    "subtitle_rows = gas_table.findAll(\"center\")\n",
    "subtitle_rows\n",
    "subtitles = list(map(lambda row: row.text, subtitle_rows[1:]))\n",
    "gas_assets = {}\n",
    "# loop through subtitles to find assets of that type, and stop when we reach the next subtitle\n",
    "for i in range(len(subtitles)):\n",
    "    subtitle = subtitles[i]\n",
    "    next_subtitle = subtitles[i+1] if i < 3 else None\n",
    "    subtitle_category = gas_types[subtitle] # the string we want to save in our data for asset type\n",
    "    row = gas_table.find(\"tr\", string=subtitle)\n",
    "    gas_assets[subtitle_category] = []\n",
    "    # loops through each row starting from this subtitle\n",
    "    for sibling in row.next_siblings:\n",
    "        if (sibling != '\\n'): # \\n is new line in file - just skip these\n",
    "            if (sibling.text == next_subtitle):\n",
    "                break # stop looking when we hit the next subtitle\n",
    "            elif ('(' in sibling.text):\n",
    "                gas_assets[subtitle_category].append(get_row_asset_id(sibling))\n",
    "gas_assets"
   ]
  },
  {
   "cell_type": "code",
   "execution_count": null,
   "metadata": {},
   "outputs": [],
   "source": [
    "all_assets = {**gas_assets, **other_assets}\n",
    "all_assets"
   ]
  },
  {
   "cell_type": "code",
   "execution_count": null,
   "metadata": {},
   "outputs": [],
   "source": [
    "# save assets and types to a csv\n",
    "import csv\n",
    "with open('./data/asset_list_from_html.csv', 'w') as csvfile:\n",
    "    writer = csv.writer(csvfile)\n",
    "    writer.writerow(['type', 'asset'])\n",
    "    for asset_type in all_assets.keys():\n",
    "        for asset in all_assets[asset_type]:\n",
    "            writer.writerow([asset_type, asset])"
   ]
  }
 ],
 "metadata": {
  "language_info": {
   "name": "python"
  },
  "orig_nbformat": 4
 },
 "nbformat": 4,
 "nbformat_minor": 2
}
